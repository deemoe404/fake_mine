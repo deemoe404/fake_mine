{
 "cells": [
  {
   "cell_type": "code",
   "execution_count": 1,
   "metadata": {},
   "outputs": [
    {
     "name": "stdout",
     "output_type": "stream",
     "text": [
      "Saved 44 rotations around the z-axis.\n"
     ]
    }
   ],
   "source": [
    "import numpy as np\n",
    "\n",
    "root = \"exhaustive-grid-search/data/rotations/\"\n",
    "\n",
    "rotations = np.load(root + \"R_AA_ICO162_S10_removed_duplicates.npy\")\n",
    "\n",
    "tol = 1e-6\n",
    "\n",
    "def is_z_axis_rotation(R, tol=tol):\n",
    "    return (np.abs(R[0,2]) < tol and \n",
    "            np.abs(R[1,2]) < tol and \n",
    "            np.abs(R[2,0]) < tol and \n",
    "            np.abs(R[2,1]) < tol and \n",
    "            np.abs(R[2,2] - 1) < tol)\n",
    "\n",
    "z_axis_rotations = np.array([R for R in rotations if is_z_axis_rotation(R)])\n",
    "\n",
    "np.save(root + \"R_AA_ICO162_S10_removed_duplicates_z_axis.npy\", z_axis_rotations)\n",
    "print(f\"Saved {z_axis_rotations.shape[0]} rotations around the z-axis.\")"
   ]
  }
 ],
 "metadata": {
  "kernelspec": {
   "display_name": "Python 3",
   "language": "python",
   "name": "python3"
  },
  "language_info": {
   "codemirror_mode": {
    "name": "ipython",
    "version": 3
   },
   "file_extension": ".py",
   "mimetype": "text/x-python",
   "name": "python",
   "nbconvert_exporter": "python",
   "pygments_lexer": "ipython3",
   "version": "3.11.11"
  }
 },
 "nbformat": 4,
 "nbformat_minor": 2
}
